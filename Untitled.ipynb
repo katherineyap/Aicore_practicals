{
 "cells": [
  {
   "cell_type": "markdown",
   "id": "e239de07",
   "metadata": {},
   "source": [
    "## Summary\n",
    "\n",
    "this notebook contains the ai-core practice questions"
   ]
  },
  {
   "cell_type": "markdown",
   "id": "19008a90",
   "metadata": {},
   "source": [
    "1. Use a list comprehension to capitalise every element in the list ['Hello', 'world']\n",
    "2. Use a list comprehension to filter out every multiple of 5 from a range of numbers up to 100\n",
    "3. Use a dictionary comprehension to create a map between every integer up to 15 and it's value squared\n",
    "4. Now, use a dictionary comprehension to create a dictionary that does the inverse! (hint: iterate over squares.items(), where squares is the name of the dict you made in the above challenge)\n",
    "5. Create a list of dictionaries, each with a key called name, then use a list comprehension to map that list to the names themselves by indexing the dictionaries\n",
    "6. Use the os module to create a nested list comprehension to list every file in the my_lib directory"
   ]
  },
  {
   "cell_type": "code",
   "execution_count": 5,
   "id": "fc745e10",
   "metadata": {},
   "outputs": [],
   "source": [
    "import pandas as pdd"
   ]
  },
  {
   "cell_type": "code",
   "execution_count": 1,
   "id": "c006ccb0",
   "metadata": {},
   "outputs": [],
   "source": [
    "def inf_gen():\n",
    "    i = 0\n",
    "    while True:\n",
    "        if i % 2 == 0:\n",
    "            yield True\n",
    "            i+=1\n",
    "        else:\n",
    "            yield False\n",
    "            i+=1            "
   ]
  },
  {
   "cell_type": "code",
   "execution_count": 2,
   "id": "e92dbbe3",
   "metadata": {},
   "outputs": [],
   "source": [
    "gen = inf_gen()"
   ]
  },
  {
   "cell_type": "code",
   "execution_count": 5,
   "id": "386810b9",
   "metadata": {},
   "outputs": [
    {
     "ename": "NameError",
     "evalue": "name 'gen' is not defined",
     "output_type": "error",
     "traceback": [
      "\u001b[0;31m---------------------------------------------------------------------------\u001b[0m",
      "\u001b[0;31mNameError\u001b[0m                                 Traceback (most recent call last)",
      "\u001b[0;32m/var/folders/7l/gqmnd0054ms4yt_3p04g_3qr0000gp/T/ipykernel_3874/4293081279.py\u001b[0m in \u001b[0;36m<module>\u001b[0;34m\u001b[0m\n\u001b[0;32m----> 1\u001b[0;31m \u001b[0mnext\u001b[0m\u001b[0;34m(\u001b[0m\u001b[0mgen\u001b[0m\u001b[0;34m)\u001b[0m\u001b[0;34m\u001b[0m\u001b[0;34m\u001b[0m\u001b[0m\n\u001b[0m",
      "\u001b[0;31mNameError\u001b[0m: name 'gen' is not defined"
     ]
    }
   ],
   "source": [
    "next(gen)"
   ]
  },
  {
   "cell_type": "code",
   "execution_count": 6,
   "id": "3ac2ec06",
   "metadata": {},
   "outputs": [
    {
     "ename": "NameError",
     "evalue": "name 'gen' is not defined",
     "output_type": "error",
     "traceback": [
      "\u001b[0;31m---------------------------------------------------------------------------\u001b[0m",
      "\u001b[0;31mNameError\u001b[0m                                 Traceback (most recent call last)",
      "\u001b[0;32m/var/folders/7l/gqmnd0054ms4yt_3p04g_3qr0000gp/T/ipykernel_3874/4293081279.py\u001b[0m in \u001b[0;36m<module>\u001b[0;34m\u001b[0m\n\u001b[0;32m----> 1\u001b[0;31m \u001b[0mnext\u001b[0m\u001b[0;34m(\u001b[0m\u001b[0mgen\u001b[0m\u001b[0;34m)\u001b[0m\u001b[0;34m\u001b[0m\u001b[0;34m\u001b[0m\u001b[0m\n\u001b[0m",
      "\u001b[0;31mNameError\u001b[0m: name 'gen' is not defined"
     ]
    }
   ],
   "source": [
    "next(gen)"
   ]
  },
  {
   "cell_type": "code",
   "execution_count": null,
   "id": "e4dd4582",
   "metadata": {},
   "outputs": [],
   "source": []
  }
 ],
 "metadata": {
  "kernelspec": {
   "display_name": "Python 3 (ipykernel)",
   "language": "python",
   "name": "python3"
  },
  "language_info": {
   "codemirror_mode": {
    "name": "ipython",
    "version": 3
   },
   "file_extension": ".py",
   "mimetype": "text/x-python",
   "name": "python",
   "nbconvert_exporter": "python",
   "pygments_lexer": "ipython3",
   "version": "3.9.7"
  }
 },
 "nbformat": 4,
 "nbformat_minor": 5
}
